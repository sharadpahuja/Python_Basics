{
 "cells": [
  {
   "cell_type": "markdown",
   "metadata": {},
   "source": [
    "## If statement"
   ]
  },
  {
   "cell_type": "code",
   "execution_count": 1,
   "metadata": {},
   "outputs": [
    {
     "name": "stdout",
     "output_type": "stream",
     "text": [
      "a\n"
     ]
    }
   ],
   "source": [
    "# Print the larger value\n",
    "a = 30\n",
    "b = 25\n",
    "\n",
    "if a>b:\n",
    "    print('a')\n",
    "else:\n",
    "    print('b')"
   ]
  },
  {
   "cell_type": "code",
   "execution_count": 2,
   "metadata": {},
   "outputs": [
    {
     "name": "stdout",
     "output_type": "stream",
     "text": [
      "a 30\n"
     ]
    }
   ],
   "source": [
    "if a>b:\n",
    "    print('a',a)\n",
    "else:\n",
    "    print('b',b)"
   ]
  },
  {
   "cell_type": "code",
   "execution_count": 3,
   "metadata": {},
   "outputs": [
    {
     "name": "stdout",
     "output_type": "stream",
     "text": [
      "b is thelargest\n"
     ]
    }
   ],
   "source": [
    "# Which is a maximum value\n",
    "a = 70\n",
    "b = 6892\n",
    "c = 688\n",
    "\n",
    "if (a>b) and (a>c):\n",
    "    print('a is the largest')\n",
    "elif (b>a) and (b>c):\n",
    "    print('b is thelargest')\n",
    "else:\n",
    "    print('C is the largest')"
   ]
  },
  {
   "cell_type": "code",
   "execution_count": 4,
   "metadata": {},
   "outputs": [
    {
     "name": "stdout",
     "output_type": "stream",
     "text": [
      "F\n"
     ]
    }
   ],
   "source": [
    "# Give grades to the students on their marks\n",
    "#60 -- A\n",
    "#50 -- B\n",
    "#40 -- C\n",
    "#40 -- F\n",
    "\n",
    "Marks = 32\n",
    "if (Marks>60):\n",
    "    print('A')\n",
    "elif (Marks>50):\n",
    "    print('B')\n",
    "elif (Marks>40):\n",
    "    print('C')\n",
    "else:\n",
    "    print ('F')"
   ]
  },
  {
   "cell_type": "code",
   "execution_count": 5,
   "metadata": {},
   "outputs": [
    {
     "name": "stdout",
     "output_type": "stream",
     "text": [
      "S\n"
     ]
    }
   ],
   "source": [
    "maths = 80\n",
    "science = 50\n",
    "\n",
    "# Maths    Science     Grade\n",
    "# >70      >70         'A'\n",
    "# >70      <70         'S'\n",
    "# <70      >70         'M'\n",
    "# <70      <70         'F'\n",
    "\n",
    "if (maths>70) and (science>70):\n",
    "    print('A')\n",
    "elif (maths>70) and (science<70):\n",
    "    print('S')\n",
    "elif (maths<70) and (science>70):\n",
    "    print('M')\n",
    "else:\n",
    "    print('F')"
   ]
  },
  {
   "cell_type": "code",
   "execution_count": 6,
   "metadata": {},
   "outputs": [
    {
     "name": "stdout",
     "output_type": "stream",
     "text": [
      "S\n"
     ]
    }
   ],
   "source": [
    "maths = 80\n",
    "science = 50\n",
    "\n",
    "# Maths    Science     Grade\n",
    "# >70      >70         'A'\n",
    "# >70      <70         'S'\n",
    "# <70      >70         'M'\n",
    "# <70      <70         'F'\n",
    "\n",
    "if maths>70:\n",
    "    if science>70:\n",
    "        print('A')\n",
    "    else:\n",
    "        print('S')\n",
    "else:\n",
    "    if science>70:\n",
    "        print('M')\n",
    "    else:\n",
    "        print('F')"
   ]
  },
  {
   "cell_type": "code",
   "execution_count": 7,
   "metadata": {},
   "outputs": [
    {
     "name": "stdout",
     "output_type": "stream",
     "text": [
      "[50, 35, 22, 17, 41]\n"
     ]
    },
    {
     "data": {
      "text/plain": [
       "list"
      ]
     },
     "execution_count": 7,
     "metadata": {},
     "output_type": "execute_result"
    }
   ],
   "source": [
    "# Check whether first element of the list is 10 or not\n",
    "# If it is 10, then change it to 100; else change it to 50\n",
    "\n",
    "a = [2,35,22,17,41]\n",
    "if a[0]== 10:\n",
    "    a[0]= 100\n",
    "else: a[0]= 50\n",
    "\n",
    "print(a)\n",
    "type(a)"
   ]
  },
  {
   "cell_type": "markdown",
   "metadata": {},
   "source": [
    "# While loop\n",
    "\n",
    "It is used to execute a command until some conddition is true"
   ]
  },
  {
   "cell_type": "code",
   "execution_count": 8,
   "metadata": {},
   "outputs": [
    {
     "name": "stdout",
     "output_type": "stream",
     "text": [
      "Sharad\n",
      "Sharad\n",
      "Sharad\n",
      "Sharad\n",
      "Sharad\n"
     ]
    }
   ],
   "source": [
    "count=1\n",
    "while(count<=5):\n",
    "    print('Sharad')\n",
    "    count+=1"
   ]
  },
  {
   "cell_type": "code",
   "execution_count": 9,
   "metadata": {},
   "outputs": [
    {
     "name": "stdout",
     "output_type": "stream",
     "text": [
      "5\n",
      "7\n",
      "9\n",
      "11\n"
     ]
    }
   ],
   "source": [
    "# Print value of a until it is less than b\n",
    "# also keep on incrementing the value of a by 2\n",
    "a =5\n",
    "b = 12\n",
    "while(a<=b):\n",
    "    print(a)\n",
    "    a+=2"
   ]
  },
  {
   "cell_type": "code",
   "execution_count": 10,
   "metadata": {},
   "outputs": [
    {
     "name": "stdout",
     "output_type": "stream",
     "text": [
      "1\n",
      "4\n",
      "9\n",
      "16\n",
      "25\n",
      "36\n",
      "49\n",
      "64\n",
      "81\n",
      "100\n"
     ]
    }
   ],
   "source": [
    "# Print the squares of numbers from 1 to 10\n",
    "r=1\n",
    "while(r<=10):\n",
    "    print(r**2)\n",
    "    r+=1"
   ]
  },
  {
   "cell_type": "code",
   "execution_count": 11,
   "metadata": {},
   "outputs": [
    {
     "name": "stdout",
     "output_type": "stream",
     "text": [
      "1\n",
      "4\n",
      "9\n",
      "16\n",
      "25\n",
      "36\n",
      "49\n",
      "64\n",
      "81\n",
      "100\n",
      "121\n",
      "144\n",
      "169\n",
      "196\n",
      "225\n",
      "256\n",
      "289\n",
      "324\n",
      "361\n",
      "400\n",
      "441\n",
      "484\n",
      "Time taken: 0.00800466537475586\n"
     ]
    }
   ],
   "source": [
    "# Keep on printing values till the square of values is <=500\n",
    "a = 1\n",
    "import time\n",
    "start_time =time.time()\n",
    "while(a**2<500):\n",
    "    print(a**2)\n",
    "    a+=1\n",
    "end_time =time.time()\n",
    "print('Time taken:', end_time-start_time)"
   ]
  },
  {
   "cell_type": "code",
   "execution_count": 12,
   "metadata": {},
   "outputs": [
    {
     "name": "stdout",
     "output_type": "stream",
     "text": [
      "7 * 1 = 7\n",
      "7 * 2 = 14\n",
      "7 * 3 = 21\n",
      "7 * 4 = 28\n",
      "7 * 5 = 35\n",
      "7 * 6 = 42\n",
      "7 * 7 = 49\n",
      "7 * 8 = 56\n",
      "7 * 9 = 63\n",
      "7 * 10 = 70\n"
     ]
    }
   ],
   "source": [
    "# Print the table of 7 using while loop\n",
    "a = 1\n",
    "while(a<=10):\n",
    "    print(7,'*',a,'=',7*a)\n",
    "    a+=1"
   ]
  },
  {
   "cell_type": "code",
   "execution_count": 13,
   "metadata": {},
   "outputs": [
    {
     "name": "stdout",
     "output_type": "stream",
     "text": [
      "S\n",
      "H\n",
      "A\n",
      "R\n",
      "A\n",
      "D\n"
     ]
    }
   ],
   "source": [
    "#Print alphabets of our name\n",
    "a = 'SHARAD'\n",
    "count = 0\n",
    "while (count<len(a)):\n",
    "    print(a[count])\n",
    "    count+=1"
   ]
  },
  {
   "cell_type": "code",
   "execution_count": 14,
   "metadata": {},
   "outputs": [
    {
     "name": "stdout",
     "output_type": "stream",
     "text": [
      "1  \n",
      "1 2\n",
      "1 2 3\n",
      "1 2 3 4\n"
     ]
    }
   ],
   "source": [
    "a =1\n",
    "count = 1\n",
    "\n",
    "while(count<=1):\n",
    "    print(a,' ')\n",
    "    print(a,a+1)\n",
    "    print(a,a+1,a+2)\n",
    "    print(a,a+1,a+2,a+3)\n",
    "    count+=1"
   ]
  },
  {
   "cell_type": "markdown",
   "metadata": {},
   "source": [
    "# For loop"
   ]
  },
  {
   "cell_type": "code",
   "execution_count": 15,
   "metadata": {},
   "outputs": [
    {
     "name": "stdout",
     "output_type": "stream",
     "text": [
      "S\n",
      "h\n",
      "a\n",
      "r\n",
      "a\n",
      "d\n"
     ]
    }
   ],
   "source": [
    "#Print alphabets of our name\n",
    "a ='Sharad'\n",
    "for p in a:\n",
    "    print(p)"
   ]
  },
  {
   "cell_type": "code",
   "execution_count": 16,
   "metadata": {},
   "outputs": [
    {
     "name": "stdout",
     "output_type": "stream",
     "text": [
      "10\n",
      "20\n",
      "30\n"
     ]
    }
   ],
   "source": [
    "#list\n",
    "# Using the for loop, print the first 3 elements of the list\n",
    "sample_list=[10,20,30,40,50]\n",
    "for i in sample_list[0:3]:\n",
    "    print(i)"
   ]
  },
  {
   "cell_type": "code",
   "execution_count": 17,
   "metadata": {},
   "outputs": [
    {
     "name": "stdout",
     "output_type": "stream",
     "text": [
      "40\n",
      "50\n",
      "70\n",
      "80\n",
      "90\n"
     ]
    }
   ],
   "source": [
    "# Using the for loop, print the last 5 elements of the list\n",
    "sample_list=[10,20,30,40,50,70,80,90]\n",
    "for i in sample_list[-5:]:\n",
    "    print(i)"
   ]
  },
  {
   "cell_type": "code",
   "execution_count": 18,
   "metadata": {},
   "outputs": [
    {
     "name": "stdout",
     "output_type": "stream",
     "text": [
      "40\n",
      "50\n",
      "70\n",
      "90\n"
     ]
    }
   ],
   "source": [
    "# Using the for loop, print only those values which are greater than 30 in the list\n",
    "sample_list=[10,20,30,40,50,70,25,30,90]\n",
    "for i in sample_list:\n",
    "    if (i>30):\n",
    "        print (i)"
   ]
  },
  {
   "cell_type": "code",
   "execution_count": 19,
   "metadata": {},
   "outputs": [
    {
     "name": "stdout",
     "output_type": "stream",
     "text": [
      "[10, 200, 30, 40, 50, 'ABC', 60, 70]\n"
     ]
    }
   ],
   "source": [
    "a=[10,20,30,40,50,' ',60,70]\n",
    "#Update the list \n",
    "#Replace 20 by 200\n",
    "# and' ' by 'ABC'\n",
    "index_num = 0\n",
    "for i in a:\n",
    "    if (i==20):\n",
    "        a[index_num]=200\n",
    "    elif (i==' '):\n",
    "        a[index_num]='ABC'\n",
    "    index_num += 1\n",
    "print(a)\n",
    "    "
   ]
  },
  {
   "cell_type": "markdown",
   "metadata": {},
   "source": [
    "# Range function"
   ]
  },
  {
   "cell_type": "code",
   "execution_count": 20,
   "metadata": {},
   "outputs": [],
   "source": [
    "# Only takes integer as an input\n",
    "# Returns a list"
   ]
  },
  {
   "cell_type": "code",
   "execution_count": 21,
   "metadata": {},
   "outputs": [
    {
     "data": {
      "text/plain": [
       "range(0, 5)"
      ]
     },
     "execution_count": 21,
     "metadata": {},
     "output_type": "execute_result"
    }
   ],
   "source": [
    "range(5)\n",
    "\n",
    "# Range(n) where n is an integer\n",
    "# Return a list of values ranging from 0 to n-1"
   ]
  },
  {
   "cell_type": "code",
   "execution_count": 22,
   "metadata": {},
   "outputs": [
    {
     "name": "stdout",
     "output_type": "stream",
     "text": [
      "0\n",
      "1\n",
      "2\n",
      "3\n",
      "4\n"
     ]
    }
   ],
   "source": [
    "for i in range(5):\n",
    "    print(i)"
   ]
  },
  {
   "cell_type": "code",
   "execution_count": 23,
   "metadata": {},
   "outputs": [
    {
     "name": "stdout",
     "output_type": "stream",
     "text": [
      "3\n",
      "4\n",
      "5\n",
      "6\n",
      "7\n",
      "8\n"
     ]
    }
   ],
   "source": [
    "# range(a,b)\n",
    "# a to b-1\n",
    "\n",
    "for i in range(3,9):\n",
    "    print(i)"
   ]
  },
  {
   "cell_type": "code",
   "execution_count": 24,
   "metadata": {},
   "outputs": [
    {
     "name": "stdout",
     "output_type": "stream",
     "text": [
      "2\n",
      "5\n"
     ]
    }
   ],
   "source": [
    "# Range(a,b,c)\n",
    "# jump of size C\n",
    "\n",
    "#Range(1,5,2)\n",
    "#1\n",
    "#3\n",
    "\n",
    "for i in range(2,8,3):\n",
    "    print(i)"
   ]
  },
  {
   "cell_type": "code",
   "execution_count": 25,
   "metadata": {},
   "outputs": [
    {
     "name": "stdout",
     "output_type": "stream",
     "text": [
      "7\n",
      "9\n",
      "11\n",
      "13\n",
      "15\n",
      "17\n",
      "19\n",
      "21\n",
      "23\n"
     ]
    }
   ],
   "source": [
    "# Print all the odd numbers between 7 to 24\n",
    "\n",
    "for i in range(7,24,2):\n",
    "    print(i)"
   ]
  },
  {
   "cell_type": "code",
   "execution_count": 26,
   "metadata": {},
   "outputs": [
    {
     "name": "stdout",
     "output_type": "stream",
     "text": [
      "0\n",
      "3\n",
      "5\n",
      "6\n",
      "9\n",
      "10\n",
      "12\n",
      "15\n",
      "18\n",
      "20\n",
      "98\n"
     ]
    }
   ],
   "source": [
    "# Find the sum of all the numbers divisible by 3 or 5\n",
    "# lying between 0 to 20\n",
    "result=0\n",
    "for i in range(21):\n",
    "    if i%3==0 or i%5==0:\n",
    "        print(i)\n",
    "        result=result + i\n",
    "print(result)"
   ]
  },
  {
   "cell_type": "code",
   "execution_count": 27,
   "metadata": {},
   "outputs": [
    {
     "name": "stdout",
     "output_type": "stream",
     "text": [
      "1 \n",
      "1 2 \n",
      "1 2 3 \n",
      "1 2 3 4 \n"
     ]
    }
   ],
   "source": [
    "# 1\n",
    "# 1 2\n",
    "# 1 2 3\n",
    "# 1 2 3 4\n",
    " \n",
    "for i in range(1,5):\n",
    "    for j in range(1,i+1):\n",
    "        print(j, end=' ')\n",
    "    print('')"
   ]
  },
  {
   "cell_type": "code",
   "execution_count": 28,
   "metadata": {},
   "outputs": [],
   "source": [
    "# 1\n",
    "# 2 1\n",
    "# 3 2 1\n",
    "# 4 3 2 1\n"
   ]
  },
  {
   "cell_type": "code",
   "execution_count": 29,
   "metadata": {},
   "outputs": [
    {
     "name": "stdout",
     "output_type": "stream",
     "text": [
      "1 \n",
      "2 1 \n",
      "3 2 1 \n",
      "4 3 2 1 \n"
     ]
    }
   ],
   "source": [
    "for i in range(1,5):  #Depends on number of rows we want\n",
    "    for j in range(i,0,-1):   #Print individual elements within the row\n",
    "        print(j, end=' ')\n",
    "    print('')"
   ]
  },
  {
   "cell_type": "markdown",
   "metadata": {},
   "source": [
    "## Break Statement"
   ]
  },
  {
   "cell_type": "code",
   "execution_count": 30,
   "metadata": {},
   "outputs": [],
   "source": [
    "l=[10,20,30,40,50,60,70]\n",
    "# Print only the first value of the list which is more than 30"
   ]
  },
  {
   "cell_type": "code",
   "execution_count": 31,
   "metadata": {},
   "outputs": [
    {
     "name": "stdout",
     "output_type": "stream",
     "text": [
      "40\n"
     ]
    }
   ],
   "source": [
    "for i in l:\n",
    "    if(i>30):\n",
    "        print(i)\n",
    "        break"
   ]
  },
  {
   "cell_type": "code",
   "execution_count": 32,
   "metadata": {},
   "outputs": [
    {
     "name": "stdout",
     "output_type": "stream",
     "text": [
      "Value 80\n"
     ]
    },
    {
     "data": {
      "text/plain": [
       "3"
      ]
     },
     "execution_count": 32,
     "metadata": {},
     "output_type": "execute_result"
    }
   ],
   "source": [
    "l1= [10,20,30,80,50,40,70]\n",
    "# [Index and value of first element which is divisible by 40]\n",
    "for i in l1:\n",
    "    if(i%40 == 0):\n",
    "        print('Value',i)\n",
    "        break\n",
    "l1.index(i)"
   ]
  },
  {
   "cell_type": "code",
   "execution_count": 33,
   "metadata": {},
   "outputs": [
    {
     "name": "stdout",
     "output_type": "stream",
     "text": [
      "Position 4\n",
      "Value 80\n",
      "Position 6\n",
      "Value 40\n"
     ]
    }
   ],
   "source": [
    "l1= [10,20,30,80,50,40,70]\n",
    "Position = 1\n",
    "# [Position and value of all element which is divisible by 40]\n",
    "for i in l1:\n",
    "    if(i%40 == 0):\n",
    "        print('Position',Position)\n",
    "        print('Value',i)\n",
    "    Position += 1"
   ]
  },
  {
   "cell_type": "code",
   "execution_count": 34,
   "metadata": {},
   "outputs": [
    {
     "name": "stdout",
     "output_type": "stream",
     "text": [
      "20\n",
      "40\n"
     ]
    }
   ],
   "source": [
    "l2=[10,20,35,40,55,87,60,89,80]\n",
    "# Print first 2 elements divisible by 20\n",
    "count = 0\n",
    "for i in l2:\n",
    "    if(i%20 == 0):\n",
    "        print(i)\n",
    "        count = count + 1\n",
    "        if (count== 2):\n",
    "            break"
   ]
  },
  {
   "cell_type": "markdown",
   "metadata": {},
   "source": [
    "## Continue Statement"
   ]
  },
  {
   "cell_type": "code",
   "execution_count": 35,
   "metadata": {},
   "outputs": [
    {
     "name": "stdout",
     "output_type": "stream",
     "text": [
      "1\n",
      "2\n",
      "3\n",
      "5\n",
      "6\n",
      "7\n",
      "9\n",
      "10\n"
     ]
    }
   ],
   "source": [
    "# if we want to print all numbersfroom 1 to 10\n",
    "# except those numbers which are divisible by 4\n",
    "\n",
    "for i in range(1,11):\n",
    "    if(i%4==0):\n",
    "        continue\n",
    "    else:\n",
    "        print(i)"
   ]
  },
  {
   "cell_type": "code",
   "execution_count": 36,
   "metadata": {},
   "outputs": [
    {
     "name": "stdout",
     "output_type": "stream",
     "text": [
      "s\n",
      "h\n",
      "r\n",
      "d\n",
      " \n",
      "p\n",
      "h\n"
     ]
    }
   ],
   "source": [
    "# Print alphabets of your full name\n",
    "#stop printing if e,i or u comes\n",
    "#dont print alphabets a or o, if they come\n",
    "\n",
    "name = 'sharad pahuja'\n",
    "for i in name:\n",
    "    if(i=='a' or i =='o'):\n",
    "        continue\n",
    "    elif(i =='e' or i =='i' or i == 'u'):\n",
    "        break\n",
    "    else:\n",
    "        print(i)"
   ]
  },
  {
   "cell_type": "code",
   "execution_count": 37,
   "metadata": {},
   "outputs": [
    {
     "name": "stdout",
     "output_type": "stream",
     "text": [
      "89\n",
      "178\n",
      "267\n"
     ]
    }
   ],
   "source": [
    "# Print only first 3 numbers which are divisible by 'number'\n",
    "number =89\n",
    "i = 0\n",
    "count = 0\n",
    "while True:\n",
    "    i =i + 1\n",
    "    if(i%number ==0):\n",
    "        print(i)\n",
    "        count= count + 1\n",
    "    if (count ==3):\n",
    "        break"
   ]
  }
 ],
 "metadata": {
  "kernelspec": {
   "display_name": "Python 3",
   "language": "python",
   "name": "python3"
  },
  "language_info": {
   "codemirror_mode": {
    "name": "ipython",
    "version": 3
   },
   "file_extension": ".py",
   "mimetype": "text/x-python",
   "name": "python",
   "nbconvert_exporter": "python",
   "pygments_lexer": "ipython3",
   "version": "3.7.3"
  }
 },
 "nbformat": 4,
 "nbformat_minor": 2
}
